{
 "nbformat": 4,
 "nbformat_minor": 0,
 "metadata": {
  "colab": {
   "provenance": []
  },
  "kernelspec": {
   "name": "python3",
   "display_name": "Python 3"
  },
  "language_info": {
   "name": "python"
  }
 },
 "cells": [
  {
   "cell_type": "code",
   "metadata": {
    "id": "es0ZVxjCcY7M",
    "colab": {
     "base_uri": "https://localhost:8080/"
    },
    "outputId": "426f2211-33d7-4edf-d656-5239453a704e"
   },
   "source": [
    "#!pip install -q condacolab\n",
    "#import condacolab\n",
    "#condacolab.install()\n",
    "#!conda install -c rdkit rdkit"
   ],
   "execution_count": 7,
   "outputs": []
  },
  {
   "cell_type": "code",
   "source": [
    "import numpy as np\n",
    "import pandas as pd\n",
    "import matplotlib.pyplot as plt\n",
    "import torch\n",
    "import torch.nn as nn\n",
    "from sklearn.preprocessing import StandardScaler\n",
    "from sklearn.model_selection import train_test_split\n",
    "from sklearn.feature_selection import VarianceThreshold"
   ],
   "metadata": {
    "id": "cAvQ6DQVRbqf"
   },
   "execution_count": 8,
   "outputs": []
  },
  {
   "cell_type": "code",
   "source": [
    "from rdkit import Chem, DataStructs\n",
    "from rdkit.Chem import PandasTools, AllChem"
   ],
   "metadata": {
    "id": "cyx9KWjgmhoZ"
   },
   "execution_count": 9,
   "outputs": []
  },
  {
   "cell_type": "code",
   "source": [
    "data = pd.read_csv(\"dataset.csv\")\n",
    "data.head(5)"
   ],
   "metadata": {
    "colab": {
     "base_uri": "https://localhost:8080/",
     "height": 353
    },
    "id": "6ySOdSzqnW93",
    "outputId": "bd574311-2407-4f1f-d092-85bf0200e7e0"
   },
   "execution_count": 10,
   "outputs": [
    {
     "data": {
      "text/plain": "                Ambit_InchiKey Original_Entry_ID  Entrez_ID Activity_Flag  \\\n0  CWYBNSVSYKQGJB-UHFFFAOYNA-N          71541095       6532             A   \n1  CTETYYAZBPJBHE-UHFFFAOYNA-N        CHEMBL1289       6532             A   \n2  FQDRMHHCWZAXJM-UHFFFAOYNA-N            125558      25553             A   \n3  QRAWNNQNLQPNIZ-UHFFFAOYNA-N      CHEMBL205229       6532             A   \n4  HCFHWXDIZOAUTQ-UHFFFAOYNA-N        CHEMBL6376      25553             A   \n\n     pXC50        DB  Original_Assay_ID  Tax_ID Gene_Symbol  Ortholog_Group  \\\n0  6.85387   pubchem             727355    9606      SLC6A4            4061   \n1  6.37000  chembl20             774720    9606      SLC6A4            4061   \n2  9.98297   pubchem             205028   10116      SLC6A4            4061   \n3  7.54000  chembl20             950695    9606      SLC6A4            4061   \n4  6.11000  chembl20             201505   10116      SLC6A4            4061   \n\n                          SMILES  \n0     ClC=1C=C(C2CCCCNC2)C=CC1Cl  \n1  C(#CI)COC=1C=C(Cl)C(=CC1Cl)Cl  \n2       O1C=2C=C3CC(N)CC3=CC2OC1  \n3      N1C=C(CCN)C2=C1C(=CC=C2)F  \n4      C1(=CC=2OCOC2C=C1C)CC(N)C  ",
      "text/html": "<div>\n<style scoped>\n    .dataframe tbody tr th:only-of-type {\n        vertical-align: middle;\n    }\n\n    .dataframe tbody tr th {\n        vertical-align: top;\n    }\n\n    .dataframe thead th {\n        text-align: right;\n    }\n</style>\n<table border=\"1\" class=\"dataframe\">\n  <thead>\n    <tr style=\"text-align: right;\">\n      <th></th>\n      <th>Ambit_InchiKey</th>\n      <th>Original_Entry_ID</th>\n      <th>Entrez_ID</th>\n      <th>Activity_Flag</th>\n      <th>pXC50</th>\n      <th>DB</th>\n      <th>Original_Assay_ID</th>\n      <th>Tax_ID</th>\n      <th>Gene_Symbol</th>\n      <th>Ortholog_Group</th>\n      <th>SMILES</th>\n    </tr>\n  </thead>\n  <tbody>\n    <tr>\n      <th>0</th>\n      <td>CWYBNSVSYKQGJB-UHFFFAOYNA-N</td>\n      <td>71541095</td>\n      <td>6532</td>\n      <td>A</td>\n      <td>6.85387</td>\n      <td>pubchem</td>\n      <td>727355</td>\n      <td>9606</td>\n      <td>SLC6A4</td>\n      <td>4061</td>\n      <td>ClC=1C=C(C2CCCCNC2)C=CC1Cl</td>\n    </tr>\n    <tr>\n      <th>1</th>\n      <td>CTETYYAZBPJBHE-UHFFFAOYNA-N</td>\n      <td>CHEMBL1289</td>\n      <td>6532</td>\n      <td>A</td>\n      <td>6.37000</td>\n      <td>chembl20</td>\n      <td>774720</td>\n      <td>9606</td>\n      <td>SLC6A4</td>\n      <td>4061</td>\n      <td>C(#CI)COC=1C=C(Cl)C(=CC1Cl)Cl</td>\n    </tr>\n    <tr>\n      <th>2</th>\n      <td>FQDRMHHCWZAXJM-UHFFFAOYNA-N</td>\n      <td>125558</td>\n      <td>25553</td>\n      <td>A</td>\n      <td>9.98297</td>\n      <td>pubchem</td>\n      <td>205028</td>\n      <td>10116</td>\n      <td>SLC6A4</td>\n      <td>4061</td>\n      <td>O1C=2C=C3CC(N)CC3=CC2OC1</td>\n    </tr>\n    <tr>\n      <th>3</th>\n      <td>QRAWNNQNLQPNIZ-UHFFFAOYNA-N</td>\n      <td>CHEMBL205229</td>\n      <td>6532</td>\n      <td>A</td>\n      <td>7.54000</td>\n      <td>chembl20</td>\n      <td>950695</td>\n      <td>9606</td>\n      <td>SLC6A4</td>\n      <td>4061</td>\n      <td>N1C=C(CCN)C2=C1C(=CC=C2)F</td>\n    </tr>\n    <tr>\n      <th>4</th>\n      <td>HCFHWXDIZOAUTQ-UHFFFAOYNA-N</td>\n      <td>CHEMBL6376</td>\n      <td>25553</td>\n      <td>A</td>\n      <td>6.11000</td>\n      <td>chembl20</td>\n      <td>201505</td>\n      <td>10116</td>\n      <td>SLC6A4</td>\n      <td>4061</td>\n      <td>C1(=CC=2OCOC2C=C1C)CC(N)C</td>\n    </tr>\n  </tbody>\n</table>\n</div>"
     },
     "execution_count": 10,
     "metadata": {},
     "output_type": "execute_result"
    }
   ]
  },
  {
   "cell_type": "code",
   "source": [
    "!pwd"
   ],
   "metadata": {
    "colab": {
     "base_uri": "https://localhost:8080/"
    },
    "id": "LAODhkSonjmw",
    "outputId": "ac5919a8-2a76-4bb3-d9f1-e6a830b3830b"
   },
   "execution_count": 11,
   "outputs": [
    {
     "name": "stderr",
     "output_type": "stream",
     "text": [
      "'pwd' is not recognized as an internal or external command,\n",
      "operable program or batch file.\n"
     ]
    }
   ]
  },
  {
   "cell_type": "code",
   "source": [
    "PandasTools.AddMoleculeColumnToFrame(data,'SMILES','Molecule')"
   ],
   "metadata": {
    "id": "i5fON5PSnmM3"
   },
   "execution_count": 12,
   "outputs": []
  },
  {
   "cell_type": "code",
   "source": [
    "data.head()"
   ],
   "metadata": {
    "colab": {
     "base_uri": "https://localhost:8080/",
     "height": 1000
    },
    "id": "76uoiLP3n1ZS",
    "outputId": "fb59442b-f017-40b7-e4a1-e389c3548a18"
   },
   "execution_count": 13,
   "outputs": [
    {
     "data": {
      "text/plain": "                Ambit_InchiKey Original_Entry_ID  Entrez_ID Activity_Flag  \\\n0  CWYBNSVSYKQGJB-UHFFFAOYNA-N          71541095       6532             A   \n1  CTETYYAZBPJBHE-UHFFFAOYNA-N        CHEMBL1289       6532             A   \n2  FQDRMHHCWZAXJM-UHFFFAOYNA-N            125558      25553             A   \n3  QRAWNNQNLQPNIZ-UHFFFAOYNA-N      CHEMBL205229       6532             A   \n4  HCFHWXDIZOAUTQ-UHFFFAOYNA-N        CHEMBL6376      25553             A   \n\n     pXC50        DB  Original_Assay_ID  Tax_ID Gene_Symbol  Ortholog_Group  \\\n0  6.85387   pubchem             727355    9606      SLC6A4            4061   \n1  6.37000  chembl20             774720    9606      SLC6A4            4061   \n2  9.98297   pubchem             205028   10116      SLC6A4            4061   \n3  7.54000  chembl20             950695    9606      SLC6A4            4061   \n4  6.11000  chembl20             201505   10116      SLC6A4            4061   \n\n                          SMILES  \\\n0     ClC=1C=C(C2CCCCNC2)C=CC1Cl   \n1  C(#CI)COC=1C=C(Cl)C(=CC1Cl)Cl   \n2       O1C=2C=C3CC(N)CC3=CC2OC1   \n3      N1C=C(CCN)C2=C1C(=CC=C2)F   \n4      C1(=CC=2OCOC2C=C1C)CC(N)C   \n\n                                            Molecule  \n0  <rdkit.Chem.rdchem.Mol object at 0x00000282D1E...  \n1  <rdkit.Chem.rdchem.Mol object at 0x00000282D1E...  \n2  <rdkit.Chem.rdchem.Mol object at 0x00000282D1E...  \n3  <rdkit.Chem.rdchem.Mol object at 0x00000282D1E...  \n4  <rdkit.Chem.rdchem.Mol object at 0x00000282D1E...  ",
      "text/html": "<div>\n<style scoped>\n    .dataframe tbody tr th:only-of-type {\n        vertical-align: middle;\n    }\n\n    .dataframe tbody tr th {\n        vertical-align: top;\n    }\n\n    .dataframe thead th {\n        text-align: right;\n    }\n</style>\n<table border=\"1\" class=\"dataframe\">\n  <thead>\n    <tr style=\"text-align: right;\">\n      <th></th>\n      <th>Ambit_InchiKey</th>\n      <th>Original_Entry_ID</th>\n      <th>Entrez_ID</th>\n      <th>Activity_Flag</th>\n      <th>pXC50</th>\n      <th>DB</th>\n      <th>Original_Assay_ID</th>\n      <th>Tax_ID</th>\n      <th>Gene_Symbol</th>\n      <th>Ortholog_Group</th>\n      <th>SMILES</th>\n      <th>Molecule</th>\n    </tr>\n  </thead>\n  <tbody>\n    <tr>\n      <th>0</th>\n      <td>CWYBNSVSYKQGJB-UHFFFAOYNA-N</td>\n      <td>71541095</td>\n      <td>6532</td>\n      <td>A</td>\n      <td>6.85387</td>\n      <td>pubchem</td>\n      <td>727355</td>\n      <td>9606</td>\n      <td>SLC6A4</td>\n      <td>4061</td>\n      <td>ClC=1C=C(C2CCCCNC2)C=CC1Cl</td>\n      <td>&lt;rdkit.Chem.rdchem.Mol object at 0x00000282D1E...</td>\n    </tr>\n    <tr>\n      <th>1</th>\n      <td>CTETYYAZBPJBHE-UHFFFAOYNA-N</td>\n      <td>CHEMBL1289</td>\n      <td>6532</td>\n      <td>A</td>\n      <td>6.37000</td>\n      <td>chembl20</td>\n      <td>774720</td>\n      <td>9606</td>\n      <td>SLC6A4</td>\n      <td>4061</td>\n      <td>C(#CI)COC=1C=C(Cl)C(=CC1Cl)Cl</td>\n      <td>&lt;rdkit.Chem.rdchem.Mol object at 0x00000282D1E...</td>\n    </tr>\n    <tr>\n      <th>2</th>\n      <td>FQDRMHHCWZAXJM-UHFFFAOYNA-N</td>\n      <td>125558</td>\n      <td>25553</td>\n      <td>A</td>\n      <td>9.98297</td>\n      <td>pubchem</td>\n      <td>205028</td>\n      <td>10116</td>\n      <td>SLC6A4</td>\n      <td>4061</td>\n      <td>O1C=2C=C3CC(N)CC3=CC2OC1</td>\n      <td>&lt;rdkit.Chem.rdchem.Mol object at 0x00000282D1E...</td>\n    </tr>\n    <tr>\n      <th>3</th>\n      <td>QRAWNNQNLQPNIZ-UHFFFAOYNA-N</td>\n      <td>CHEMBL205229</td>\n      <td>6532</td>\n      <td>A</td>\n      <td>7.54000</td>\n      <td>chembl20</td>\n      <td>950695</td>\n      <td>9606</td>\n      <td>SLC6A4</td>\n      <td>4061</td>\n      <td>N1C=C(CCN)C2=C1C(=CC=C2)F</td>\n      <td>&lt;rdkit.Chem.rdchem.Mol object at 0x00000282D1E...</td>\n    </tr>\n    <tr>\n      <th>4</th>\n      <td>HCFHWXDIZOAUTQ-UHFFFAOYNA-N</td>\n      <td>CHEMBL6376</td>\n      <td>25553</td>\n      <td>A</td>\n      <td>6.11000</td>\n      <td>chembl20</td>\n      <td>201505</td>\n      <td>10116</td>\n      <td>SLC6A4</td>\n      <td>4061</td>\n      <td>C1(=CC=2OCOC2C=C1C)CC(N)C</td>\n      <td>&lt;rdkit.Chem.rdchem.Mol object at 0x00000282D1E...</td>\n    </tr>\n  </tbody>\n</table>\n</div>"
     },
     "execution_count": 13,
     "metadata": {},
     "output_type": "execute_result"
    }
   ]
  },
  {
   "cell_type": "code",
   "source": [
    "def mol2fp(mol):\n",
    "    fp = AllChem.GetHashedMorganFingerprint(mol, 2, nBits=4096)\n",
    "    ar = np.zeros((1,), dtype=np.int8)\n",
    "    DataStructs.ConvertToNumpyArray(fp, ar)\n",
    "    return ar\n",
    "     \n",
    "fp = mol2fp(Chem.MolFromSmiles(data.loc[1,\"SMILES\"]))"
   ],
   "metadata": {
    "id": "5y17LaiJn4mp"
   },
   "execution_count": 14,
   "outputs": []
  },
  {
   "cell_type": "code",
   "source": [
    "fp"
   ],
   "metadata": {
    "colab": {
     "base_uri": "https://localhost:8080/"
    },
    "id": "nUmpKn7dpcDC",
    "outputId": "16145a4e-cb9c-4dc5-c6c6-b65a20e413d4"
   },
   "execution_count": 15,
   "outputs": [
    {
     "data": {
      "text/plain": "array([0, 0, 0, ..., 0, 0, 0], dtype=int8)"
     },
     "execution_count": 15,
     "metadata": {},
     "output_type": "execute_result"
    }
   ]
  },
  {
   "cell_type": "code",
   "source": [
    "len(fp)"
   ],
   "metadata": {
    "colab": {
     "base_uri": "https://localhost:8080/"
    },
    "id": "1F5oSjvNpdWb",
    "outputId": "cdf96f48-5a01-4337-fba8-601424cf535f"
   },
   "execution_count": 16,
   "outputs": [
    {
     "data": {
      "text/plain": "4096"
     },
     "execution_count": 16,
     "metadata": {},
     "output_type": "execute_result"
    }
   ]
  },
  {
   "cell_type": "code",
   "source": [
    "data.loc[1,\"SMILES\"]"
   ],
   "metadata": {
    "colab": {
     "base_uri": "https://localhost:8080/",
     "height": 35
    },
    "id": "3WQmhwlwpjTM",
    "outputId": "c1c17419-b87a-4b9a-ce01-9e83450d15c4"
   },
   "execution_count": 17,
   "outputs": [
    {
     "data": {
      "text/plain": "'C(#CI)COC=1C=C(Cl)C(=CC1Cl)Cl'"
     },
     "execution_count": 17,
     "metadata": {},
     "output_type": "execute_result"
    }
   ]
  },
  {
   "cell_type": "code",
   "source": [
    "fp.reshape((64,-1))"
   ],
   "metadata": {
    "colab": {
     "base_uri": "https://localhost:8080/"
    },
    "id": "bfBM9Fjupwgw",
    "outputId": "0f0f2dc9-b542-4e52-eb78-615baded1d41"
   },
   "execution_count": 18,
   "outputs": [
    {
     "data": {
      "text/plain": "array([[0, 0, 0, ..., 0, 0, 0],\n       [0, 0, 0, ..., 0, 0, 0],\n       [0, 0, 0, ..., 0, 0, 0],\n       ...,\n       [0, 0, 0, ..., 0, 0, 0],\n       [0, 0, 0, ..., 0, 0, 0],\n       [0, 0, 0, ..., 0, 0, 0]], dtype=int8)"
     },
     "execution_count": 18,
     "metadata": {},
     "output_type": "execute_result"
    }
   ]
  },
  {
   "cell_type": "code",
   "source": [
    "4096/64"
   ],
   "metadata": {
    "colab": {
     "base_uri": "https://localhost:8080/"
    },
    "id": "fwDM2as-qOWT",
    "outputId": "93f03dc2-c581-4874-e996-70e3f66a50cd"
   },
   "execution_count": 19,
   "outputs": [
    {
     "data": {
      "text/plain": "64.0"
     },
     "execution_count": 19,
     "metadata": {},
     "output_type": "execute_result"
    }
   ]
  },
  {
   "cell_type": "code",
   "source": [
    "plt.matshow(fp.reshape((64,-1)) > 0)"
   ],
   "metadata": {
    "colab": {
     "base_uri": "https://localhost:8080/",
     "height": 292
    },
    "id": "5V3RNcbkqbFC",
    "outputId": "0f2694a0-a933-4e11-9dd5-e88957a6e986"
   },
   "execution_count": 20,
   "outputs": [
    {
     "data": {
      "text/plain": "<matplotlib.image.AxesImage at 0x282d1c32520>"
     },
     "execution_count": 20,
     "metadata": {},
     "output_type": "execute_result"
    },
    {
     "data": {
      "text/plain": "<Figure size 480x480 with 1 Axes>",
      "image/png": "[encoded data removed]"
     },
     "metadata": {},
     "output_type": "display_data"
    }
   ]
  },
  {
   "cell_type": "code",
   "source": [
    "data[\"FPs\"] = data.Molecule.apply(mol2fp)"
   ],
   "metadata": {
    "id": "5hGsxjWYrJiZ"
   },
   "execution_count": 21,
   "outputs": []
  },
  {
   "cell_type": "code",
   "source": [
    "data[\"FPs\"].head(5)"
   ],
   "metadata": {
    "colab": {
     "base_uri": "https://localhost:8080/"
    },
    "id": "FE3EjBWlrgVt",
    "outputId": "34b8cffa-defb-4dea-d259-786445ea6cd9"
   },
   "execution_count": 22,
   "outputs": [
    {
     "data": {
      "text/plain": "0    [0, 0, 0, 0, 0, 0, 0, 0, 0, 0, 0, 0, 0, 0, 0, ...\n1    [0, 0, 0, 0, 0, 0, 0, 0, 0, 0, 0, 0, 0, 0, 0, ...\n2    [0, 0, 0, 0, 0, 0, 0, 0, 0, 0, 0, 0, 0, 0, 0, ...\n3    [0, 0, 0, 0, 0, 0, 0, 0, 0, 0, 0, 0, 0, 0, 0, ...\n4    [0, 0, 0, 0, 0, 0, 0, 0, 0, 0, 0, 0, 0, 0, 0, ...\nName: FPs, dtype: object"
     },
     "execution_count": 22,
     "metadata": {},
     "output_type": "execute_result"
    }
   ]
  },
  {
   "cell_type": "code",
   "source": [
    "X = np.stack(data.FPs.values)"
   ],
   "metadata": {
    "id": "R5D0oAThri_E"
   },
   "execution_count": 24,
   "outputs": []
  },
  {
   "cell_type": "code",
   "source": [
    "data.FPs.values"
   ],
   "metadata": {
    "colab": {
     "base_uri": "https://localhost:8080/"
    },
    "id": "PQG3eJx6sPMz",
    "outputId": "5b4563b3-f49d-4e59-d3c4-ac2ac1a959d1"
   },
   "execution_count": 25,
   "outputs": [
    {
     "data": {
      "text/plain": "array([array([0, 0, 0, ..., 0, 0, 0], dtype=int8),\n       array([0, 0, 0, ..., 0, 0, 0], dtype=int8),\n       array([0, 0, 0, ..., 0, 0, 0], dtype=int8), ...,\n       array([0, 2, 0, ..., 0, 0, 0], dtype=int8),\n       array([0, 2, 0, ..., 0, 0, 0], dtype=int8),\n       array([0, 2, 0, ..., 0, 0, 0], dtype=int8)], dtype=object)"
     },
     "execution_count": 25,
     "metadata": {},
     "output_type": "execute_result"
    }
   ]
  },
  {
   "cell_type": "code",
   "source": [
    "X"
   ],
   "metadata": {
    "colab": {
     "base_uri": "https://localhost:8080/"
    },
    "id": "u5tiSP-rsTYB",
    "outputId": "3055a010-bd71-4029-919e-87ef15ff838e"
   },
   "execution_count": 26,
   "outputs": [
    {
     "data": {
      "text/plain": "array([[0, 0, 0, ..., 0, 0, 0],\n       [0, 0, 0, ..., 0, 0, 0],\n       [0, 0, 0, ..., 0, 0, 0],\n       ...,\n       [0, 2, 0, ..., 0, 0, 0],\n       [0, 2, 0, ..., 0, 0, 0],\n       [0, 2, 0, ..., 0, 0, 0]], dtype=int8)"
     },
     "execution_count": 26,
     "metadata": {},
     "output_type": "execute_result"
    }
   ]
  },
  {
   "cell_type": "code",
   "source": [
    "y = data.pXC50.values.reshape((-1,1))"
   ],
   "metadata": {
    "id": "SUMWzjMpsZD_"
   },
   "execution_count": 27,
   "outputs": []
  },
  {
   "cell_type": "code",
   "source": [
    "y"
   ],
   "metadata": {
    "colab": {
     "base_uri": "https://localhost:8080/"
    },
    "id": "wyI1nyKvsmTh",
    "outputId": "8a301aac-df1f-4417-c328-4ef458823c87"
   },
   "execution_count": 28,
   "outputs": [
    {
     "data": {
      "text/plain": "array([[6.85387],\n       [6.37   ],\n       [9.98297],\n       ...,\n       [6.60206],\n       [6.8    ],\n       [6.14   ]])"
     },
     "execution_count": 28,
     "metadata": {},
     "output_type": "execute_result"
    }
   ]
  },
  {
   "cell_type": "code",
   "source": [
    "X_train, X_test, y_train, y_test = train_test_split(X, y,  test_size=0.15, random_state=42)\n",
    "X_train, X_validation, y_train, y_validation = train_test_split(X_train, y_train,  test_size=0.05, random_state=42)\n",
    "#Normalizing output using standard scaling\n",
    "scaler = StandardScaler()\n",
    "y_train = scaler.fit_transform(y_train)\n",
    "y_test = scaler.transform(y_test)\n",
    "y_validation = scaler.transform(y_validation)"
   ],
   "metadata": {
    "id": "PnCENDk7snjC"
   },
   "execution_count": 127,
   "outputs": []
  },
  {
   "cell_type": "code",
   "source": [
    "y_validation"
   ],
   "metadata": {
    "colab": {
     "base_uri": "https://localhost:8080/"
    },
    "id": "ucmxfmOguSVW",
    "outputId": "7a5ef95a-1971-464b-ee25-a2ffa22dbb3f"
   },
   "execution_count": 128,
   "outputs": [
    {
     "data": {
      "text/plain": "array([[-0.67611859],\n       [ 0.75235856],\n       [-0.973718  ],\n       [-1.39589252],\n       [-0.25947942],\n       [ 1.85772778],\n       [-0.99556179],\n       [-0.77815267],\n       [ 0.86289548],\n       [ 1.43258577],\n       [-0.82565804],\n       [-1.68795657],\n       [ 1.26252897],\n       [-1.38185433],\n       [-0.26797376],\n       [-0.16400953],\n       [ 1.10947785],\n       [ 1.76626273],\n       [ 0.88012224],\n       [ 0.42074779],\n       [-1.15828065],\n       [ 0.93226165],\n       [ 1.87473346],\n       [ 0.57379892],\n       [ 0.99894092],\n       [ 0.49727335],\n       [-0.91853456],\n       [-0.21696522],\n       [ 1.70467666],\n       [-0.91419812],\n       [-0.2764851 ],\n       [-1.26281456],\n       [-0.58864137],\n       [ 1.77357517],\n       [ 0.53978755],\n       [ 0.97471633],\n       [ 1.85772778],\n       [-0.09790845],\n       [-1.43892539],\n       [ 1.00744376],\n       [ 0.32721655],\n       [ 0.58230176],\n       [-0.26798226],\n       [-0.49755895],\n       [-1.56891681],\n       [ 1.27953465],\n       [-0.973718  ],\n       [-0.26535488],\n       [ 0.32021021],\n       [-0.17445102],\n       [-1.2159129 ],\n       [-0.2764851 ],\n       [ 0.53128471],\n       [-0.54857599],\n       [ 1.34755737],\n       [-1.03323788],\n       [-0.39552487],\n       [-1.03323788],\n       [-0.52862833],\n       [-1.67945373],\n       [ 0.39866592],\n       [ 0.92329116],\n       [ 0.32896814],\n       [-0.57408451],\n       [-0.94820948],\n       [-0.85467824],\n       [-0.43803907],\n       [ 2.28286979],\n       [ 0.6333188 ],\n       [-0.24247374],\n       [-0.88018676],\n       [-1.37335149],\n       [-0.87168392],\n       [-0.07671938],\n       [ 0.42452305],\n       [ 0.10614271],\n       [ 0.58230176],\n       [-0.35187128],\n       [-0.63810239],\n       [-1.02473504],\n       [-0.22480484],\n       [ 0.28711716],\n       [-1.3138316 ],\n       [-0.49372417],\n       [ 0.73535288],\n       [-1.26281456],\n       [ 0.39523927],\n       [-1.24580888],\n       [-0.72713563],\n       [ 0.68433584],\n       [ 1.42408293],\n       [ 1.22851761],\n       [-0.79515835],\n       [ 0.88144018],\n       [ 0.10614271],\n       [-0.13152868],\n       [-0.30189159],\n       [ 1.51761418],\n       [ 2.54645784],\n       [ 0.05512566],\n       [-0.72713563],\n       [-1.44137421],\n       [-0.09792546],\n       [-1.60292817],\n       [-1.58592249],\n       [-1.60292817],\n       [ 1.15199205],\n       [-1.42436853],\n       [-0.50606179],\n       [-1.29682592],\n       [-0.22546806],\n       [ 1.95976187],\n       [-0.8886896 ],\n       [ 1.42408293],\n       [-0.63360439],\n       [ 0.47176483],\n       [-1.69346641],\n       [-1.03323788],\n       [-0.66761575],\n       [-1.36484865],\n       [-0.65061007],\n       [ 1.21151193],\n       [-0.8015695 ],\n       [-0.39552487],\n       [-1.56041397],\n       [-0.66761575],\n       [ 1.10947785],\n       [-0.24093473],\n       [-0.88018676],\n       [ 0.49727335],\n       [ 0.30170803],\n       [-0.96219665],\n       [-0.89621461],\n       [-0.15744534],\n       [ 1.46659713],\n       [ 3.6603299 ],\n       [-0.90569528],\n       [ 1.50313384],\n       [ 0.25069099],\n       [-0.71012995],\n       [-1.46275885],\n       [ 0.08063419],\n       [-1.02473504],\n       [ 0.96492956],\n       [ 0.45857693],\n       [ 1.57713406],\n       [-1.45837989],\n       [-0.55381374],\n       [-1.42436853],\n       [-0.67593153],\n       [ 0.7183472 ],\n       [ 0.99043808],\n       [ 1.00744376],\n       [-0.92270096],\n       [ 1.26252897],\n       [ 0.39523927],\n       [-0.20447455],\n       [ 0.08425639],\n       [-1.41586569],\n       [-0.87979562],\n       [-1.8410077 ],\n       [ 0.0636285 ],\n       [ 0.22518247],\n       [ 0.49727335],\n       [-0.12294081],\n       [ 1.22146025],\n       [ 1.39007157],\n       [-0.71012995],\n       [ 0.92329116],\n       [-0.98895509],\n       [ 1.07007569],\n       [ 1.85772778],\n       [ 0.41229597],\n       [ 1.07673341],\n       [-0.77617151],\n       [-0.02951161],\n       [ 0.83738696],\n       [ 1.00744376],\n       [-1.54145264],\n       [ 0.54307815],\n       [-0.64210723],\n       [-1.27982024],\n       [-1.06506401],\n       [-1.32233445],\n       [-0.77815267],\n       [ 1.17778116],\n       [-0.79515835],\n       [ 1.03295229],\n       [-1.7518129 ],\n       [-0.8886896 ],\n       [-0.48892006],\n       [-1.8835219 ],\n       [-0.37851918],\n       [-0.29920469],\n       [ 0.17435249],\n       [-0.57408451],\n       [-1.40315394],\n       [ 0.47176483],\n       [ 1.19450625],\n       [ 1.43258577],\n       [-0.78665551],\n       [ 0.5482904 ],\n       [ 1.91724766],\n       [ 0.42925063],\n       [ 1.03295229],\n       [-0.07241694],\n       [-0.59836012],\n       [-0.82695898],\n       [ 0.75235856],\n       [-1.43892539],\n       [-1.30190212],\n       [-1.06724924],\n       [ 0.41224495],\n       [ 1.45028869],\n       [-0.51456463],\n       [-0.21696522],\n       [-0.84617539],\n       [-1.07177275],\n       [-1.15748988],\n       [ 1.52886343],\n       [-0.25097658],\n       [ 0.95642672],\n       [ 0.85596567],\n       [-0.0213999 ],\n       [-0.40402771],\n       [-1.00772936],\n       [ 1.34755737],\n       [-0.46354759],\n       [-0.79515835],\n       [ 0.3761759 ],\n       [ 0.60000467],\n       [ 1.10947785],\n       [-0.64210723],\n       [-1.54340829],\n       [-1.50939693],\n       [-0.61247483],\n       [-1.67945373],\n       [-1.77298497],\n       [ 0.22644939],\n       [-1.55679176],\n       [-1.08064972],\n       [ 1.20367231],\n       [-0.67611859],\n       [-0.95671232],\n       [-0.64210723],\n       [ 0.55679324],\n       [ 1.00744376],\n       [ 0.78966902],\n       [-0.86203319],\n       [ 0.09821806],\n       [-1.19479184],\n       [-1.43892539],\n       [ 0.36973075],\n       [-0.90569528],\n       [ 0.07300714],\n       [-0.38702203],\n       [-1.06724924],\n       [-1.25431172],\n       [ 1.01594661],\n       [ 0.87139832],\n       [-0.64975979],\n       [ 1.66216246],\n       [ 0.67857942],\n       [ 0.44625631],\n       [-0.82066687],\n       [ 1.45028869],\n       [-0.26535488],\n       [-0.49755895],\n       [-0.30720586],\n       [-0.52278687],\n       [-1.14130898],\n       [ 1.56012838],\n       [-0.61247483],\n       [ 0.07300714],\n       [-1.20329468],\n       [-1.85801338],\n       [-0.47910778],\n       [-1.02473504],\n       [-0.18295386],\n       [ 1.06696365],\n       [ 0.92329116],\n       [-0.19995954],\n       [ 1.15199205],\n       [ 0.75235856],\n       [ 0.48877051],\n       [-1.34784297],\n       [-1.3715999 ],\n       [ 2.02778459],\n       [ 1.65365962],\n       [-0.35301066],\n       [ 0.57379892],\n       [ 0.70984436],\n       [ 0.05079772],\n       [-1.41476882],\n       [ 0.23780919],\n       [-1.13527196],\n       [-0.76964983],\n       [ 0.04940325],\n       [-0.1489425 ],\n       [ 0.66733016],\n       [-0.50606179],\n       [-1.64544237],\n       [-0.86785764],\n       [-1.67945373],\n       [ 1.26252897],\n       [ 0.83738696],\n       [-0.67611859],\n       [-0.72713563]])"
     },
     "execution_count": 128,
     "metadata": {},
     "output_type": "execute_result"
    }
   ]
  },
  {
   "cell_type": "code",
   "source": [
    "plt.hist(y_train)\n",
    "plt.show() "
   ],
   "metadata": {
    "colab": {
     "base_uri": "https://localhost:8080/",
     "height": 267
    },
    "id": "CR5g5giIuvOb",
    "outputId": "85fffbd7-32bf-4451-8647-62323bb0c567"
   },
   "execution_count": 129,
   "outputs": [
    {
     "data": {
      "text/plain": "<Figure size 640x480 with 1 Axes>",
      "image/png": "[encoded data removed]"
     },
     "metadata": {},
     "output_type": "display_data"
    }
   ]
  },
  {
   "cell_type": "code",
   "source": [
    "X_train.shape"
   ],
   "metadata": {
    "colab": {
     "base_uri": "https://localhost:8080/"
    },
    "id": "JO_1D1c1uVBe",
    "outputId": "7de1933d-b0a1-444d-f7dd-fcff9a67d907"
   },
   "execution_count": 130,
   "outputs": [
    {
     "data": {
      "text/plain": "(5835, 4096)"
     },
     "execution_count": 130,
     "metadata": {},
     "output_type": "execute_result"
    }
   ]
  },
  {
   "cell_type": "code",
   "source": [
    "7700*0.85"
   ],
   "metadata": {
    "colab": {
     "base_uri": "https://localhost:8080/"
    },
    "id": "JxP0GBOXvB6b",
    "outputId": "1b081e44-a2ce-4e49-f4ce-df87d227a0ad"
   },
   "execution_count": 131,
   "outputs": [
    {
     "data": {
      "text/plain": "6545.0"
     },
     "execution_count": 131,
     "metadata": {},
     "output_type": "execute_result"
    }
   ]
  },
  {
   "cell_type": "code",
   "source": [
    "feature_select = VarianceThreshold(threshold=0.05)\n",
    "X_train = feature_select.fit_transform(X_train)\n",
    "X_validation = feature_select.transform(X_validation)\n",
    "X_test = feature_select.transform(X_test)\n",
    "X_train.shape"
   ],
   "metadata": {
    "colab": {
     "base_uri": "https://localhost:8080/"
    },
    "id": "w3Z3Y9uPvS7Y",
    "outputId": "fafee25e-c80b-43cb-fbb2-113d7b17ee53"
   },
   "execution_count": 132,
   "outputs": [
    {
     "data": {
      "text/plain": "(5835, 220)"
     },
     "execution_count": 132,
     "metadata": {},
     "output_type": "execute_result"
    }
   ]
  },
  {
   "cell_type": "code",
   "source": [
    "# Let's get those arrays transfered to the GPU memory as tensors\n",
    "device = torch.device(\"cuda:0\" if torch.cuda.is_available() else \"cpu\")\n",
    "print(device)\n",
    "# If you don't have a GPU, buy a graphics card. I have for a long time used a 1060 GTX, which is not that expensive anymore.\n",
    "X_train = torch.tensor(X_train, device=device).float()\n",
    "X_test = torch.tensor(X_test, device=device).float()\n",
    "X_validation = torch.tensor(X_validation, device=device).float()\n",
    "y_train = torch.tensor(y_train, device=device).float()\n",
    "y_test = torch.tensor(y_test, device=device).float()\n",
    "y_validation = torch.tensor(y_validation, device=device).float()\n",
    "X_train"
   ],
   "metadata": {
    "colab": {
     "base_uri": "https://localhost:8080/"
    },
    "id": "9nCxDw9kwEdP",
    "outputId": "e1d40343-17d6-4944-a58d-0ebb8965f3a9"
   },
   "execution_count": 133,
   "outputs": [
    {
     "name": "stdout",
     "output_type": "stream",
     "text": [
      "cpu\n"
     ]
    },
    {
     "data": {
      "text/plain": "tensor([[0., 0., 0.,  ..., 0., 1., 0.],\n        [1., 0., 0.,  ..., 0., 0., 0.],\n        [0., 0., 0.,  ..., 0., 0., 0.],\n        ...,\n        [0., 0., 0.,  ..., 0., 0., 0.],\n        [0., 0., 0.,  ..., 0., 0., 1.],\n        [0., 0., 0.,  ..., 0., 0., 0.]])"
     },
     "execution_count": 133,
     "metadata": {},
     "output_type": "execute_result"
    }
   ]
  },
  {
   "cell_type": "code",
   "source": [
    "device = torch.device(\"cuda:0\" if torch.cuda.is_available() else \"cpu\")"
   ],
   "metadata": {
    "id": "-yEwGG9cw3Mu"
   },
   "execution_count": 134,
   "outputs": []
  },
  {
   "cell_type": "code",
   "source": [
    "device"
   ],
   "metadata": {
    "colab": {
     "base_uri": "https://localhost:8080/"
    },
    "id": "T3LMYemfw_w3",
    "outputId": "7729dc19-88b2-4a08-9330-ea539e4fa3c9"
   },
   "execution_count": 135,
   "outputs": [
    {
     "data": {
      "text/plain": "device(type='cpu')"
     },
     "execution_count": 135,
     "metadata": {},
     "output_type": "execute_result"
    }
   ]
  },
  {
   "cell_type": "code",
   "source": [
    "from torch.utils.data import TensorDataset\n",
    "train_dataset = TensorDataset(X_train, y_train)\n",
    "validation_dataset = TensorDataset(X_validation, y_validation)"
   ],
   "metadata": {
    "id": "2--1IvgqxAiX"
   },
   "execution_count": 136,
   "outputs": []
  },
  {
   "cell_type": "code",
   "source": [
    "train_dataset"
   ],
   "metadata": {
    "colab": {
     "base_uri": "https://localhost:8080/"
    },
    "id": "fNIg1m5IyAuG",
    "outputId": "d23d37b6-31f6-4c1d-8591-1cebb370feec"
   },
   "execution_count": 137,
   "outputs": [
    {
     "data": {
      "text/plain": "<torch.utils.data.dataset.TensorDataset at 0x282801549a0>"
     },
     "execution_count": 137,
     "metadata": {},
     "output_type": "execute_result"
    }
   ]
  },
  {
   "cell_type": "code",
   "source": [
    "train_loader = torch.utils.data.DataLoader(dataset=train_dataset,\n",
    "                                          batch_size=256,\n",
    "                                          shuffle=True)\n",
    "validation_loader = torch.utils.data.DataLoader(dataset=validation_dataset,\n",
    "                                          batch_size=256,\n",
    "                                          shuffle=False)"
   ],
   "metadata": {
    "id": "rgXY2SzAyCSf"
   },
   "execution_count": 138,
   "outputs": []
  },
  {
   "cell_type": "code",
   "source": [
    "class Net(nn.Module):\n",
    "    def __init__(self, input_size, hidden_size, dropout_rate, out_size):\n",
    "        super(Net, self).__init__()\n",
    "        # Three layers and a output layer\n",
    "        self.fc1 = nn.Linear(input_size, hidden_size)  # 1st Full-Connected Layer\n",
    "        self.fc15 = nn.Linear(hidden_size, hidden_size)\n",
    "        self.fc2 = nn.Linear(hidden_size, hidden_size)\n",
    "        self.fc3 = nn.Linear(hidden_size, hidden_size)\n",
    "        self.fc_out = nn.Linear(hidden_size, out_size) # Output layer\n",
    "        #Layer normalization for faster training\n",
    "        self.ln1 = nn.LayerNorm(hidden_size)\n",
    "        self.ln15 = nn.LayerNorm(hidden_size)        \n",
    "        self.ln2 = nn.LayerNorm(hidden_size)\n",
    "        self.ln3 = nn.LayerNorm(hidden_size)        \n",
    "        #LeakyReLU will be used as the activation function\n",
    "        self.activation = nn.LeakyReLU()\n",
    "        #Dropout for regularization\n",
    "        self.dropout = nn.Dropout(dropout_rate)\n",
    "     \n",
    "    def forward(self, x):# Forward pass: stacking each layer together\n",
    "        # Fully connected =&amp;gt; Layer Norm =&amp;gt; LeakyReLU =&amp;gt; Dropout times 3\n",
    "        out = self.fc1(x)\n",
    "        out = self.ln1(out)\n",
    "        out = self.activation(out)\n",
    "        out = self.dropout(out)\n",
    "        out = self.fc15(out)\n",
    "        out = self.ln15(out)\n",
    "        out = self.activation(out)\n",
    "        out = self.dropout(out)\n",
    "        out = self.fc2(out)\n",
    "        out = self.ln2(out)\n",
    "        out = self.activation(out)\n",
    "        out = self.dropout(out)\n",
    "        out = self.fc3(out)\n",
    "        out = self.ln3(out)\n",
    "        out = self.activation(out)\n",
    "        out = self.dropout(out)\n",
    "        #Final output layer\n",
    "        out = self.fc_out(out)\n",
    "        return out\n"
   ],
   "metadata": {
    "id": "LIbg4OB-lOX3"
   },
   "execution_count": 139,
   "outputs": []
  },
  {
   "cell_type": "code",
   "source": [
    "#Defining the hyperparameters\n",
    "input_size = X_train.size()[-1]     # The input size should fit our fingerprint size\n",
    "hidden_size = 1500   # The size of the hidden layer\n",
    "dropout_rate = 0.40    # The dropout rate\n",
    "output_size = 1        # This is just a single task, so this will be one\n",
    "learning_rate = 0.001  # The learning rate for the optimizer\n",
    "model = Net(input_size, hidden_size, dropout_rate, output_size)"
   ],
   "metadata": {
    "id": "IJjLbyu_lcAJ"
   },
   "execution_count": 140,
   "outputs": []
  },
  {
   "cell_type": "code",
   "source": [
    "criterion = nn.MSELoss()\n",
    "optimizer = torch.optim.Adam(model.parameters(), lr=learning_rate)"
   ],
   "metadata": {
    "id": "4s6ebquNnrdY"
   },
   "execution_count": 141,
   "outputs": []
  },
  {
   "cell_type": "code",
   "source": [
    "model.train() #Ensure the network is in \"train\" mode with dropouts active\n",
    "epochs = 40\n",
    "for e in range(epochs):\n",
    "    running_loss = 0\n",
    "    for fps, labels in train_loader:\n",
    "        # Training pass\n",
    "        optimizer.zero_grad() # Initialize the gradients, which will be recorded during the forward pa\n",
    "         \n",
    "        output = model(fps) #Forward pass of the mini-batch\n",
    "        loss = criterion(output, labels) #Computing the loss\n",
    "        loss.backward() # calculate the backward pass\n",
    "        optimizer.step() # Optimize the weights\n",
    "         \n",
    "        running_loss += loss.item()\n",
    "    else:\n",
    "        if e%10 == 0:\n",
    "            validation_loss = torch.mean(( y_validation - model(X_validation) )**2).item()\n",
    "            print(\"Epoch: %3i Training loss: %0.2F Validation loss: %0.2F\"%(e,(running_loss/len(train_loader)), validation_loss))"
   ],
   "metadata": {
    "colab": {
     "base_uri": "https://localhost:8080/"
    },
    "id": "DccYjMCKoHQt",
    "outputId": "1a9852ab-8fce-42c0-c943-5d626e94ef14"
   },
   "execution_count": 152,
   "outputs": [
    {
     "name": "stdout",
     "output_type": "stream",
     "text": [
      "Epoch:   0 Training loss: 0.18 Validation loss: 0.38\n",
      "Epoch:  10 Training loss: 0.16 Validation loss: 0.37\n",
      "Epoch:  20 Training loss: 0.15 Validation loss: 0.37\n",
      "Epoch:  30 Training loss: 0.13 Validation loss: 0.35\n"
     ]
    }
   ]
  },
  {
   "cell_type": "code",
   "source": [
    "model.eval() #Switch to evaluation mode, where dropout is switched off\n",
    "y_pred_train = model(X_train)\n",
    "y_pred_validation = model(X_validation)\n",
    "y_pred_test = model(X_test)"
   ],
   "metadata": {
    "id": "1NsUBxKQpEEm"
   },
   "execution_count": 153,
   "outputs": []
  },
  {
   "cell_type": "code",
   "source": [
    "torch.mean(( y_train - y_pred_train )**2).item()"
   ],
   "metadata": {
    "colab": {
     "base_uri": "https://localhost:8080/"
    },
    "id": "5O14pigwqWjm",
    "outputId": "48dc74f6-dfb1-4b3d-e507-42a9b1e97fac"
   },
   "execution_count": 154,
   "outputs": [
    {
     "data": {
      "text/plain": "0.08520086109638214"
     },
     "execution_count": 154,
     "metadata": {},
     "output_type": "execute_result"
    }
   ]
  },
  {
   "cell_type": "code",
   "source": [
    "torch.mean(( y_validation - y_pred_validation )**2).item()"
   ],
   "metadata": {
    "colab": {
     "base_uri": "https://localhost:8080/"
    },
    "id": "5gq7YkM8qcby",
    "outputId": "db9cb095-2221-4deb-fb80-3b330e7980ba"
   },
   "execution_count": 155,
   "outputs": [
    {
     "data": {
      "text/plain": "0.34176579117774963"
     },
     "execution_count": 155,
     "metadata": {},
     "output_type": "execute_result"
    }
   ]
  },
  {
   "cell_type": "code",
   "source": [
    "torch.mean(( y_test - y_pred_test )**2).item()"
   ],
   "metadata": {
    "colab": {
     "base_uri": "https://localhost:8080/"
    },
    "id": "9FNwYrZRqfro",
    "outputId": "6a8274a1-11b3-47c9-d1b8-9b554e064565"
   },
   "execution_count": 156,
   "outputs": [
    {
     "data": {
      "text/plain": "0.3434487581253052"
     },
     "execution_count": 156,
     "metadata": {},
     "output_type": "execute_result"
    }
   ]
  },
  {
   "cell_type": "code",
   "source": [
    "def flatten(tensor):\n",
    "    return tensor.cpu().detach().numpy().flatten()"
   ],
   "metadata": {
    "id": "_C23049kqjBf"
   },
   "execution_count": 157,
   "outputs": []
  },
  {
   "cell_type": "code",
   "source": [
    "plt.scatter(flatten(y_pred_test), flatten(y_test), alpha=0.5, label=\"Test\")\n",
    "plt.scatter(flatten(y_pred_train), flatten(y_train), alpha=0.1, label=\"Train\")\n",
    "plt.legend()\n",
    "plt.plot([-1.5, 1.5], [-1.5,1.5], c=\"b\")"
   ],
   "metadata": {
    "colab": {
     "base_uri": "https://localhost:8080/",
     "height": 283
    },
    "id": "O8hJGm6bq5HI",
    "outputId": "f6d34cf6-c1d6-499b-c125-58229b96173d"
   },
   "execution_count": 158,
   "outputs": [
    {
     "data": {
      "text/plain": "[<matplotlib.lines.Line2D at 0x282802165b0>]"
     },
     "execution_count": 158,
     "metadata": {},
     "output_type": "execute_result"
    },
    {
     "data": {
      "text/plain": "<Figure size 640x480 with 1 Axes>",
      "image/png": "[encoded data removed]"
     },
     "metadata": {},
     "output_type": "display_data"
    }
   ]
  },
  {
   "cell_type": "code",
   "source": [
    "def predict_smiles(smiles):\n",
    "    fp = mol2fp(Chem.MolFromSmiles(smiles)).reshape(1,-1)\n",
    "    fp_filtered = feature_select.transform(fp)\n",
    "    fp_tensor = torch.tensor(fp_filtered, device=device).float()\n",
    "    prediction = model(fp_tensor)\n",
    "    #return prediction.cpu().detach().numpy()\n",
    "    pXC50 = scaler.inverse_transform(prediction.cpu().detach().numpy())\n",
    "    return pXC50[0][0]"
   ],
   "metadata": {
    "id": "qId4itjurIIL"
   },
   "execution_count": 159,
   "outputs": []
  },
  {
   "cell_type": "code",
   "source": [
    "predict_smiles('Cc1ccc2c(N3CCNCC3)cc(F)cc2n1')"
   ],
   "metadata": {
    "colab": {
     "base_uri": "https://localhost:8080/"
    },
    "id": "Rzy9Ekf8r-Oi",
    "outputId": "2f8a1d2d-3c96-4323-f20c-f118638b0b97"
   },
   "execution_count": 160,
   "outputs": [
    {
     "data": {
      "text/plain": "9.158571"
     },
     "execution_count": 160,
     "metadata": {},
     "output_type": "execute_result"
    }
   ]
  },
  {
   "cell_type": "code",
   "source": [
    "model"
   ],
   "metadata": {
    "colab": {
     "base_uri": "https://localhost:8080/"
    },
    "id": "bA0rdhG5sHHE",
    "outputId": "3cda5867-c1e2-411b-996a-6834651748e4"
   },
   "execution_count": 161,
   "outputs": [
    {
     "data": {
      "text/plain": "Net(\n  (fc1): Linear(in_features=220, out_features=1500, bias=True)\n  (fc15): Linear(in_features=1500, out_features=1500, bias=True)\n  (fc2): Linear(in_features=1500, out_features=1500, bias=True)\n  (fc3): Linear(in_features=1500, out_features=1500, bias=True)\n  (fc_out): Linear(in_features=1500, out_features=1, bias=True)\n  (ln1): LayerNorm((1500,), eps=1e-05, elementwise_affine=True)\n  (ln15): LayerNorm((1500,), eps=1e-05, elementwise_affine=True)\n  (ln2): LayerNorm((1500,), eps=1e-05, elementwise_affine=True)\n  (ln3): LayerNorm((1500,), eps=1e-05, elementwise_affine=True)\n  (activation): LeakyReLU(negative_slope=0.01)\n  (dropout): Dropout(p=0.4, inplace=False)\n)"
     },
     "execution_count": 161,
     "metadata": {},
     "output_type": "execute_result"
    }
   ]
  },
  {
   "cell_type": "code",
   "source": [],
   "metadata": {
    "id": "NpcvY6uvsHfY"
   },
   "execution_count": null,
   "outputs": []
  }
 ]
}
