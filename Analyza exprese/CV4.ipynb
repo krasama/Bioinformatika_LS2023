{
 "cells": [
  {
   "cell_type": "code",
   "execution_count": 26,
   "metadata": {
    "collapsed": true
   },
   "outputs": [],
   "source": [
    "from sklearn.tree import DecisionTreeClassifier\n",
    "from sklearn.model_selection import train_test_split\n",
    "from sklearn.tree import export_graphviz\n",
    "from IPython.display import Image\n",
    "import pydotplus\n",
    "import pandas as pd\n"
   ]
  },
  {
   "cell_type": "code",
   "execution_count": 41,
   "outputs": [],
   "source": [
    "X = pd.read_csv(\"gene_expression.csv\", delimiter= \";\",dtype=float)\n",
    "y = pd.read_csv(\"label.csv\",dtype=str)\n",
    "\n",
    "with open('geneNames.txt', 'r') as f:\n",
    "    geneNames = f.read()"
   ],
   "metadata": {
    "collapsed": false
   }
  },
  {
   "cell_type": "code",
   "execution_count": 42,
   "outputs": [],
   "source": [
    "X_train, X_test, y_train, y_test = train_test_split(X, y, test_size=0.2, random_state=0)"
   ],
   "metadata": {
    "collapsed": false
   }
  },
  {
   "cell_type": "code",
   "execution_count": 50,
   "outputs": [
    {
     "data": {
      "text/plain": "array(['1', '2', '2', '1', '1', '1', '1', '1', '2', '1', '1', '2', '2',\n       '1', '2'], dtype=object)"
     },
     "execution_count": 50,
     "metadata": {},
     "output_type": "execute_result"
    }
   ],
   "source": [
    "classifier = DecisionTreeClassifier()\n",
    "classifier.fit(X_train, y_train)\n",
    "y_pred = classifier.predict(X_test)\n",
    "y_pred"
   ],
   "metadata": {
    "collapsed": false
   }
  },
  {
   "cell_type": "code",
   "execution_count": 47,
   "outputs": [
    {
     "ename": "TypeError",
     "evalue": "can only concatenate str (not \"numpy.int64\") to str",
     "output_type": "error",
     "traceback": [
      "\u001B[1;31m---------------------------------------------------------------------------\u001B[0m",
      "\u001B[1;31mTypeError\u001B[0m                                 Traceback (most recent call last)",
      "Cell \u001B[1;32mIn[47], line 1\u001B[0m\n\u001B[1;32m----> 1\u001B[0m dot_data \u001B[38;5;241m=\u001B[39m \u001B[43mexport_graphviz\u001B[49m\u001B[43m(\u001B[49m\u001B[43mclassifier\u001B[49m\u001B[43m,\u001B[49m\u001B[43m \u001B[49m\u001B[43mout_file\u001B[49m\u001B[38;5;241;43m=\u001B[39;49m\u001B[38;5;28;43;01mNone\u001B[39;49;00m\u001B[43m,\u001B[49m\n\u001B[0;32m      2\u001B[0m \u001B[43m                           \u001B[49m\u001B[43mfeature_names\u001B[49m\u001B[38;5;241;43m=\u001B[39;49m\u001B[43mX\u001B[49m\u001B[38;5;241;43m.\u001B[39;49m\u001B[43mcolumns\u001B[49m\u001B[43m,\u001B[49m\n\u001B[0;32m      3\u001B[0m \u001B[43m                           \u001B[49m\u001B[43mclass_names\u001B[49m\u001B[38;5;241;43m=\u001B[39;49m\u001B[43my\u001B[49m\u001B[38;5;241;43m.\u001B[39;49m\u001B[43mnunique\u001B[49m\u001B[43m(\u001B[49m\u001B[43m)\u001B[49m\u001B[43m,\u001B[49m\n\u001B[0;32m      4\u001B[0m \u001B[43m                           \u001B[49m\u001B[43mfilled\u001B[49m\u001B[38;5;241;43m=\u001B[39;49m\u001B[38;5;28;43;01mTrue\u001B[39;49;00m\u001B[43m,\u001B[49m\u001B[43m \u001B[49m\u001B[43mrounded\u001B[49m\u001B[38;5;241;43m=\u001B[39;49m\u001B[38;5;28;43;01mTrue\u001B[39;49;00m\u001B[43m,\u001B[49m\n\u001B[0;32m      5\u001B[0m \u001B[43m                           \u001B[49m\u001B[43mspecial_characters\u001B[49m\u001B[38;5;241;43m=\u001B[39;49m\u001B[38;5;28;43;01mTrue\u001B[39;49;00m\u001B[43m)\u001B[49m\n",
      "File \u001B[1;32m~\\AppData\\Local\\Programs\\Python\\Python39\\lib\\site-packages\\sklearn\\tree\\_export.py:888\u001B[0m, in \u001B[0;36mexport_graphviz\u001B[1;34m(decision_tree, out_file, max_depth, feature_names, class_names, label, filled, leaves_parallel, impurity, node_ids, proportion, rotate, rounded, special_characters, precision, fontname)\u001B[0m\n\u001B[0;32m    869\u001B[0m     out_file \u001B[38;5;241m=\u001B[39m StringIO()\n\u001B[0;32m    871\u001B[0m exporter \u001B[38;5;241m=\u001B[39m _DOTTreeExporter(\n\u001B[0;32m    872\u001B[0m     out_file\u001B[38;5;241m=\u001B[39mout_file,\n\u001B[0;32m    873\u001B[0m     max_depth\u001B[38;5;241m=\u001B[39mmax_depth,\n\u001B[1;32m   (...)\u001B[0m\n\u001B[0;32m    886\u001B[0m     fontname\u001B[38;5;241m=\u001B[39mfontname,\n\u001B[0;32m    887\u001B[0m )\n\u001B[1;32m--> 888\u001B[0m \u001B[43mexporter\u001B[49m\u001B[38;5;241;43m.\u001B[39;49m\u001B[43mexport\u001B[49m\u001B[43m(\u001B[49m\u001B[43mdecision_tree\u001B[49m\u001B[43m)\u001B[49m\n\u001B[0;32m    890\u001B[0m \u001B[38;5;28;01mif\u001B[39;00m return_string:\n\u001B[0;32m    891\u001B[0m     \u001B[38;5;28;01mreturn\u001B[39;00m exporter\u001B[38;5;241m.\u001B[39mout_file\u001B[38;5;241m.\u001B[39mgetvalue()\n",
      "File \u001B[1;32m~\\AppData\\Local\\Programs\\Python\\Python39\\lib\\site-packages\\sklearn\\tree\\_export.py:461\u001B[0m, in \u001B[0;36m_DOTTreeExporter.export\u001B[1;34m(self, decision_tree)\u001B[0m\n\u001B[0;32m    459\u001B[0m     \u001B[38;5;28mself\u001B[39m\u001B[38;5;241m.\u001B[39mrecurse(decision_tree, \u001B[38;5;241m0\u001B[39m, criterion\u001B[38;5;241m=\u001B[39m\u001B[38;5;124m\"\u001B[39m\u001B[38;5;124mimpurity\u001B[39m\u001B[38;5;124m\"\u001B[39m)\n\u001B[0;32m    460\u001B[0m \u001B[38;5;28;01melse\u001B[39;00m:\n\u001B[1;32m--> 461\u001B[0m     \u001B[38;5;28;43mself\u001B[39;49m\u001B[38;5;241;43m.\u001B[39;49m\u001B[43mrecurse\u001B[49m\u001B[43m(\u001B[49m\u001B[43mdecision_tree\u001B[49m\u001B[38;5;241;43m.\u001B[39;49m\u001B[43mtree_\u001B[49m\u001B[43m,\u001B[49m\u001B[43m \u001B[49m\u001B[38;5;241;43m0\u001B[39;49m\u001B[43m,\u001B[49m\u001B[43m \u001B[49m\u001B[43mcriterion\u001B[49m\u001B[38;5;241;43m=\u001B[39;49m\u001B[43mdecision_tree\u001B[49m\u001B[38;5;241;43m.\u001B[39;49m\u001B[43mcriterion\u001B[49m\u001B[43m)\u001B[49m\n\u001B[0;32m    463\u001B[0m \u001B[38;5;28mself\u001B[39m\u001B[38;5;241m.\u001B[39mtail()\n",
      "File \u001B[1;32m~\\AppData\\Local\\Programs\\Python\\Python39\\lib\\site-packages\\sklearn\\tree\\_export.py:520\u001B[0m, in \u001B[0;36m_DOTTreeExporter.recurse\u001B[1;34m(self, tree, node_id, criterion, parent, depth)\u001B[0m\n\u001B[0;32m    516\u001B[0m \u001B[38;5;28;01melse\u001B[39;00m:\n\u001B[0;32m    517\u001B[0m     \u001B[38;5;28mself\u001B[39m\u001B[38;5;241m.\u001B[39mranks[\u001B[38;5;28mstr\u001B[39m(depth)]\u001B[38;5;241m.\u001B[39mappend(\u001B[38;5;28mstr\u001B[39m(node_id))\n\u001B[0;32m    519\u001B[0m \u001B[38;5;28mself\u001B[39m\u001B[38;5;241m.\u001B[39mout_file\u001B[38;5;241m.\u001B[39mwrite(\n\u001B[1;32m--> 520\u001B[0m     \u001B[38;5;124m\"\u001B[39m\u001B[38;5;132;01m%d\u001B[39;00m\u001B[38;5;124m [label=\u001B[39m\u001B[38;5;132;01m%s\u001B[39;00m\u001B[38;5;124m\"\u001B[39m \u001B[38;5;241m%\u001B[39m (node_id, \u001B[38;5;28;43mself\u001B[39;49m\u001B[38;5;241;43m.\u001B[39;49m\u001B[43mnode_to_str\u001B[49m\u001B[43m(\u001B[49m\u001B[43mtree\u001B[49m\u001B[43m,\u001B[49m\u001B[43m \u001B[49m\u001B[43mnode_id\u001B[49m\u001B[43m,\u001B[49m\u001B[43m \u001B[49m\u001B[43mcriterion\u001B[49m\u001B[43m)\u001B[49m)\n\u001B[0;32m    521\u001B[0m )\n\u001B[0;32m    523\u001B[0m \u001B[38;5;28;01mif\u001B[39;00m \u001B[38;5;28mself\u001B[39m\u001B[38;5;241m.\u001B[39mfilled:\n\u001B[0;32m    524\u001B[0m     \u001B[38;5;28mself\u001B[39m\u001B[38;5;241m.\u001B[39mout_file\u001B[38;5;241m.\u001B[39mwrite(\n\u001B[0;32m    525\u001B[0m         \u001B[38;5;124m'\u001B[39m\u001B[38;5;124m, fillcolor=\u001B[39m\u001B[38;5;124m\"\u001B[39m\u001B[38;5;132;01m%s\u001B[39;00m\u001B[38;5;124m\"\u001B[39m\u001B[38;5;124m'\u001B[39m \u001B[38;5;241m%\u001B[39m \u001B[38;5;28mself\u001B[39m\u001B[38;5;241m.\u001B[39mget_fill_color(tree, node_id)\n\u001B[0;32m    526\u001B[0m     )\n",
      "File \u001B[1;32m~\\AppData\\Local\\Programs\\Python\\Python39\\lib\\site-packages\\sklearn\\tree\\_export.py:373\u001B[0m, in \u001B[0;36m_BaseTreeExporter.node_to_str\u001B[1;34m(self, tree, node_id, criterion)\u001B[0m\n\u001B[0;32m    367\u001B[0m     \u001B[38;5;28;01melse\u001B[39;00m:\n\u001B[0;32m    368\u001B[0m         class_name \u001B[38;5;241m=\u001B[39m \u001B[38;5;124m\"\u001B[39m\u001B[38;5;124my\u001B[39m\u001B[38;5;132;01m%s\u001B[39;00m\u001B[38;5;132;01m%s\u001B[39;00m\u001B[38;5;132;01m%s\u001B[39;00m\u001B[38;5;124m\"\u001B[39m \u001B[38;5;241m%\u001B[39m (\n\u001B[0;32m    369\u001B[0m             characters[\u001B[38;5;241m1\u001B[39m],\n\u001B[0;32m    370\u001B[0m             np\u001B[38;5;241m.\u001B[39margmax(value),\n\u001B[0;32m    371\u001B[0m             characters[\u001B[38;5;241m2\u001B[39m],\n\u001B[0;32m    372\u001B[0m         )\n\u001B[1;32m--> 373\u001B[0m     node_string \u001B[38;5;241m+\u001B[39m\u001B[38;5;241m=\u001B[39m class_name\n\u001B[0;32m    375\u001B[0m \u001B[38;5;66;03m# Clean up any trailing newlines\u001B[39;00m\n\u001B[0;32m    376\u001B[0m \u001B[38;5;28;01mif\u001B[39;00m node_string\u001B[38;5;241m.\u001B[39mendswith(characters[\u001B[38;5;241m4\u001B[39m]):\n",
      "\u001B[1;31mTypeError\u001B[0m: can only concatenate str (not \"numpy.int64\") to str"
     ]
    }
   ],
   "source": [
    "dot_data = export_graphviz(classifier, out_file=None,\n",
    "                           feature_names=X.columns,\n",
    "                           class_names=y.nunique(),\n",
    "                           filled=True, rounded=True,\n",
    "                           special_characters=True)"
   ],
   "metadata": {
    "collapsed": false
   }
  },
  {
   "cell_type": "code",
   "execution_count": null,
   "outputs": [],
   "source": [
    "graph = pydotplus.graph_from_dot_data(dot_data)"
   ],
   "metadata": {
    "collapsed": false
   }
  },
  {
   "cell_type": "code",
   "execution_count": null,
   "outputs": [],
   "source": [
    "Image(graph.create_png())"
   ],
   "metadata": {
    "collapsed": false
   }
  },
  {
   "cell_type": "code",
   "execution_count": 56,
   "outputs": [
    {
     "ename": "ValueError",
     "evalue": "Dot product shape mismatch, (71, 7129) vs (71, 1)",
     "output_type": "error",
     "traceback": [
      "\u001B[1;31m---------------------------------------------------------------------------\u001B[0m",
      "\u001B[1;31mValueError\u001B[0m                                Traceback (most recent call last)",
      "Cell \u001B[1;32mIn[56], line 13\u001B[0m\n\u001B[0;32m     10\u001B[0m \u001B[38;5;66;03m# 2. For a range of component numbers K:\u001B[39;00m\n\u001B[0;32m     11\u001B[0m \u001B[38;5;28;01mfor\u001B[39;00m K \u001B[38;5;129;01min\u001B[39;00m \u001B[38;5;28mrange\u001B[39m(\u001B[38;5;241m1\u001B[39m, \u001B[38;5;241m6\u001B[39m):\n\u001B[0;32m     12\u001B[0m     \u001B[38;5;66;03m# a. project the original data X to the top K components of V. The result are data Z with reduced dimensionality.\u001B[39;00m\n\u001B[1;32m---> 13\u001B[0m     Z \u001B[38;5;241m=\u001B[39m \u001B[43mX\u001B[49m\u001B[38;5;241;43m.\u001B[39;49m\u001B[43mdot\u001B[49m\u001B[43m(\u001B[49m\u001B[43mV\u001B[49m\u001B[43m[\u001B[49m\u001B[43m:\u001B[49m\u001B[43m,\u001B[49m\u001B[43m:\u001B[49m\u001B[43mK\u001B[49m\u001B[43m]\u001B[49m\u001B[43m)\u001B[49m\n\u001B[0;32m     15\u001B[0m     \u001B[38;5;66;03m# b. create a tree out of these reduced data. Show it and enumerate its training accuracy.\u001B[39;00m\n\u001B[0;32m     16\u001B[0m     clf \u001B[38;5;241m=\u001B[39m DecisionTreeClassifier()\n",
      "File \u001B[1;32m~\\AppData\\Local\\Programs\\Python\\Python39\\lib\\site-packages\\pandas\\core\\frame.py:1603\u001B[0m, in \u001B[0;36mDataFrame.dot\u001B[1;34m(self, other)\u001B[0m\n\u001B[0;32m   1601\u001B[0m     rvals \u001B[38;5;241m=\u001B[39m np\u001B[38;5;241m.\u001B[39masarray(other)\n\u001B[0;32m   1602\u001B[0m     \u001B[38;5;28;01mif\u001B[39;00m lvals\u001B[38;5;241m.\u001B[39mshape[\u001B[38;5;241m1\u001B[39m] \u001B[38;5;241m!=\u001B[39m rvals\u001B[38;5;241m.\u001B[39mshape[\u001B[38;5;241m0\u001B[39m]:\n\u001B[1;32m-> 1603\u001B[0m         \u001B[38;5;28;01mraise\u001B[39;00m \u001B[38;5;167;01mValueError\u001B[39;00m(\n\u001B[0;32m   1604\u001B[0m             \u001B[38;5;124mf\u001B[39m\u001B[38;5;124m\"\u001B[39m\u001B[38;5;124mDot product shape mismatch, \u001B[39m\u001B[38;5;132;01m{\u001B[39;00mlvals\u001B[38;5;241m.\u001B[39mshape\u001B[38;5;132;01m}\u001B[39;00m\u001B[38;5;124m vs \u001B[39m\u001B[38;5;132;01m{\u001B[39;00mrvals\u001B[38;5;241m.\u001B[39mshape\u001B[38;5;132;01m}\u001B[39;00m\u001B[38;5;124m\"\u001B[39m\n\u001B[0;32m   1605\u001B[0m         )\n\u001B[0;32m   1607\u001B[0m \u001B[38;5;28;01mif\u001B[39;00m \u001B[38;5;28misinstance\u001B[39m(other, DataFrame):\n\u001B[0;32m   1608\u001B[0m     \u001B[38;5;28;01mreturn\u001B[39;00m \u001B[38;5;28mself\u001B[39m\u001B[38;5;241m.\u001B[39m_constructor(\n\u001B[0;32m   1609\u001B[0m         np\u001B[38;5;241m.\u001B[39mdot(lvals, rvals), index\u001B[38;5;241m=\u001B[39mleft\u001B[38;5;241m.\u001B[39mindex, columns\u001B[38;5;241m=\u001B[39mother\u001B[38;5;241m.\u001B[39mcolumns\n\u001B[0;32m   1610\u001B[0m     )\n",
      "\u001B[1;31mValueError\u001B[0m: Dot product shape mismatch, (71, 7129) vs (71, 1)"
     ]
    }
   ],
   "source": [
    "from sklearn.decomposition import PCA\n",
    "from sklearn.tree import DecisionTreeClassifier\n",
    "from sklearn.tree import export_graphviz\n",
    "import graphviz\n",
    "\n",
    "pca = PCA()\n",
    "V = pca.fit_transform(X)\n",
    "\n",
    "\n",
    "for K in range(1, 6):\n",
    "\n",
    "    Z = X.dot(V[:,:K])\n",
    "\n",
    "\n",
    "    clf = DecisionTreeClassifier()\n",
    "    clf.fit(Z, y)\n",
    "    score = clf.score(Z, y)\n",
    "    print(f\"Accuracy with {K} components: {score}\")\n",
    "    dot_data = export_graphviz(clf, out_file=None,\n",
    "                      feature_names=[f\"component_{i}\" for i in range(K)],\n",
    "                      class_names=y.unique(),\n",
    "                      filled=True, rounded=True,\n",
    "                      special_characters=True)\n",
    "    graph = graphviz.Source(dot_data)\n",
    "    graph.render(f\"tree_with_{K}_components\")"
   ],
   "metadata": {
    "collapsed": false
   }
  },
  {
   "cell_type": "code",
   "execution_count": null,
   "outputs": [],
   "source": [],
   "metadata": {
    "collapsed": false
   }
  }
 ],
 "metadata": {
  "kernelspec": {
   "display_name": "Python 3",
   "language": "python",
   "name": "python3"
  },
  "language_info": {
   "codemirror_mode": {
    "name": "ipython",
    "version": 2
   },
   "file_extension": ".py",
   "mimetype": "text/x-python",
   "name": "python",
   "nbconvert_exporter": "python",
   "pygments_lexer": "ipython2",
   "version": "2.7.6"
  }
 },
 "nbformat": 4,
 "nbformat_minor": 0
}
